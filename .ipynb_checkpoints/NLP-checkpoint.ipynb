{
 "cells": [
  {
   "cell_type": "code",
   "execution_count": 1,
   "id": "aafc9d11-e873-480c-87b0-9400928b7a54",
   "metadata": {},
   "outputs": [
    {
     "name": "stdout",
     "output_type": "stream",
     "text": [
      "Requirement already satisfied: requests in c:\\users\\pawci\\miniconda3\\envs\\nlp\\lib\\site-packages (2.32.3)\n",
      "Collecting pandas\n",
      "  Downloading pandas-2.2.3-cp310-cp310-win_amd64.whl.metadata (19 kB)\n",
      "Collecting numpy\n",
      "  Downloading numpy-2.2.3-cp310-cp310-win_amd64.whl.metadata (60 kB)\n",
      "Requirement already satisfied: charset-normalizer<4,>=2 in c:\\users\\pawci\\miniconda3\\envs\\nlp\\lib\\site-packages (from requests) (3.3.2)\n",
      "Requirement already satisfied: idna<4,>=2.5 in c:\\users\\pawci\\miniconda3\\envs\\nlp\\lib\\site-packages (from requests) (3.7)\n",
      "Requirement already satisfied: urllib3<3,>=1.21.1 in c:\\users\\pawci\\miniconda3\\envs\\nlp\\lib\\site-packages (from requests) (2.3.0)\n",
      "Requirement already satisfied: certifi>=2017.4.17 in c:\\users\\pawci\\miniconda3\\envs\\nlp\\lib\\site-packages (from requests) (2025.1.31)\n",
      "Requirement already satisfied: python-dateutil>=2.8.2 in c:\\users\\pawci\\miniconda3\\envs\\nlp\\lib\\site-packages (from pandas) (2.9.0.post0)\n",
      "Collecting pytz>=2020.1 (from pandas)\n",
      "  Downloading pytz-2025.1-py2.py3-none-any.whl.metadata (22 kB)\n",
      "Collecting tzdata>=2022.7 (from pandas)\n",
      "  Downloading tzdata-2025.1-py2.py3-none-any.whl.metadata (1.4 kB)\n",
      "Requirement already satisfied: six>=1.5 in c:\\users\\pawci\\miniconda3\\envs\\nlp\\lib\\site-packages (from python-dateutil>=2.8.2->pandas) (1.16.0)\n",
      "Downloading pandas-2.2.3-cp310-cp310-win_amd64.whl (11.6 MB)\n",
      "   ---------------------------------------- 0.0/11.6 MB ? eta -:--:--\n",
      "   ---------------------------------------- 0.0/11.6 MB ? eta -:--:--\n",
      "    --------------------------------------- 0.3/11.6 MB ? eta -:--:--\n",
      "   - -------------------------------------- 0.5/11.6 MB 1.0 MB/s eta 0:00:11\n",
      "   -- ------------------------------------- 0.8/11.6 MB 1.1 MB/s eta 0:00:11\n",
      "   --- ------------------------------------ 1.0/11.6 MB 1.1 MB/s eta 0:00:10\n",
      "   ----- ---------------------------------- 1.6/11.6 MB 1.4 MB/s eta 0:00:08\n",
      "   -------- ------------------------------- 2.4/11.6 MB 1.7 MB/s eta 0:00:06\n",
      "   --------- ------------------------------ 2.9/11.6 MB 1.9 MB/s eta 0:00:05\n",
      "   ------------ --------------------------- 3.7/11.6 MB 2.1 MB/s eta 0:00:04\n",
      "   -------------- ------------------------- 4.2/11.6 MB 2.2 MB/s eta 0:00:04\n",
      "   ----------------- ---------------------- 5.0/11.6 MB 2.3 MB/s eta 0:00:03\n",
      "   ------------------ --------------------- 5.5/11.6 MB 2.3 MB/s eta 0:00:03\n",
      "   -------------------- ------------------- 6.0/11.6 MB 2.4 MB/s eta 0:00:03\n",
      "   ---------------------- ----------------- 6.6/11.6 MB 2.4 MB/s eta 0:00:03\n",
      "   ------------------------- -------------- 7.3/11.6 MB 2.4 MB/s eta 0:00:02\n",
      "   --------------------------- ------------ 7.9/11.6 MB 2.5 MB/s eta 0:00:02\n",
      "   ---------------------------- ----------- 8.4/11.6 MB 2.5 MB/s eta 0:00:02\n",
      "   ------------------------------- -------- 9.2/11.6 MB 2.5 MB/s eta 0:00:01\n",
      "   --------------------------------- ------ 9.7/11.6 MB 2.5 MB/s eta 0:00:01\n",
      "   ----------------------------------- ---- 10.2/11.6 MB 2.6 MB/s eta 0:00:01\n",
      "   ------------------------------------- -- 10.7/11.6 MB 2.6 MB/s eta 0:00:01\n",
      "   ---------------------------------------  11.5/11.6 MB 2.6 MB/s eta 0:00:01\n",
      "   ---------------------------------------- 11.6/11.6 MB 2.6 MB/s eta 0:00:00\n",
      "Downloading numpy-2.2.3-cp310-cp310-win_amd64.whl (12.9 MB)\n",
      "   ---------------------------------------- 0.0/12.9 MB ? eta -:--:--\n",
      "   - -------------------------------------- 0.5/12.9 MB 2.8 MB/s eta 0:00:05\n",
      "   --- ------------------------------------ 1.0/12.9 MB 3.0 MB/s eta 0:00:05\n",
      "   ---- ----------------------------------- 1.6/12.9 MB 3.0 MB/s eta 0:00:04\n",
      "   ------- -------------------------------- 2.4/12.9 MB 3.0 MB/s eta 0:00:04\n",
      "   -------- ------------------------------- 2.9/12.9 MB 2.9 MB/s eta 0:00:04\n",
      "   ----------- ---------------------------- 3.7/12.9 MB 2.9 MB/s eta 0:00:04\n",
      "   ------------ --------------------------- 4.2/12.9 MB 3.0 MB/s eta 0:00:03\n",
      "   -------------- ------------------------- 4.7/12.9 MB 3.0 MB/s eta 0:00:03\n",
      "   ----------------- ---------------------- 5.5/12.9 MB 3.0 MB/s eta 0:00:03\n",
      "   ------------------ --------------------- 6.0/12.9 MB 3.0 MB/s eta 0:00:03\n",
      "   --------------------- ------------------ 6.8/12.9 MB 3.0 MB/s eta 0:00:03\n",
      "   ---------------------- ----------------- 7.3/12.9 MB 3.0 MB/s eta 0:00:02\n",
      "   ------------------------ --------------- 7.9/12.9 MB 2.9 MB/s eta 0:00:02\n",
      "   -------------------------- ------------- 8.7/12.9 MB 2.9 MB/s eta 0:00:02\n",
      "   ---------------------------- ----------- 9.2/12.9 MB 3.0 MB/s eta 0:00:02\n",
      "   ------------------------------ --------- 9.7/12.9 MB 2.9 MB/s eta 0:00:02\n",
      "   -------------------------------- ------- 10.5/12.9 MB 3.0 MB/s eta 0:00:01\n",
      "   ---------------------------------- ----- 11.0/12.9 MB 3.0 MB/s eta 0:00:01\n",
      "   ------------------------------------ --- 11.8/12.9 MB 3.0 MB/s eta 0:00:01\n",
      "   -------------------------------------- - 12.3/12.9 MB 3.0 MB/s eta 0:00:01\n",
      "   ---------------------------------------- 12.9/12.9 MB 2.9 MB/s eta 0:00:00\n",
      "Downloading pytz-2025.1-py2.py3-none-any.whl (507 kB)\n",
      "Downloading tzdata-2025.1-py2.py3-none-any.whl (346 kB)\n",
      "Installing collected packages: pytz, tzdata, numpy, pandas\n",
      "Successfully installed numpy-2.2.3 pandas-2.2.3 pytz-2025.1 tzdata-2025.1\n"
     ]
    }
   ],
   "source": [
    "!pip install requests pandas numpy"
   ]
  }
 ],
 "metadata": {
  "kernelspec": {
   "display_name": "Python 3 (ipykernel)",
   "language": "python",
   "name": "python3"
  },
  "language_info": {
   "codemirror_mode": {
    "name": "ipython",
    "version": 3
   },
   "file_extension": ".py",
   "mimetype": "text/x-python",
   "name": "python",
   "nbconvert_exporter": "python",
   "pygments_lexer": "ipython3",
   "version": "3.10.16"
  }
 },
 "nbformat": 4,
 "nbformat_minor": 5
}
