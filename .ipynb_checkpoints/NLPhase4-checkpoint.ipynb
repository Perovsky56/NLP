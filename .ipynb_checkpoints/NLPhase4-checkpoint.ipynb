{
 "cells": [
  {
   "cell_type": "code",
   "execution_count": 1,
   "id": "44155cf9-3d91-43d6-824c-c219bf620106",
   "metadata": {},
   "outputs": [
    {
     "name": "stdout",
     "output_type": "stream",
     "text": [
      "Requirement already satisfied: pandas in c:\\users\\pawci\\miniconda3\\envs\\nlp\\lib\\site-packages (2.2.3)\n",
      "Requirement already satisfied: numpy>=1.22.4 in c:\\users\\pawci\\miniconda3\\envs\\nlp\\lib\\site-packages (from pandas) (2.2.3)\n",
      "Requirement already satisfied: python-dateutil>=2.8.2 in c:\\users\\pawci\\miniconda3\\envs\\nlp\\lib\\site-packages (from pandas) (2.9.0.post0)\n",
      "Requirement already satisfied: pytz>=2020.1 in c:\\users\\pawci\\miniconda3\\envs\\nlp\\lib\\site-packages (from pandas) (2025.1)\n",
      "Requirement already satisfied: tzdata>=2022.7 in c:\\users\\pawci\\miniconda3\\envs\\nlp\\lib\\site-packages (from pandas) (2025.1)\n",
      "Requirement already satisfied: six>=1.5 in c:\\users\\pawci\\miniconda3\\envs\\nlp\\lib\\site-packages (from python-dateutil>=2.8.2->pandas) (1.16.0)\n",
      "Note: you may need to restart the kernel to use updated packages.\n"
     ]
    }
   ],
   "source": [
    "pip install pandas"
   ]
  },
  {
   "cell_type": "code",
   "execution_count": 3,
   "id": "f132e31c-a3a3-4b80-91fe-b858a0ebf62a",
   "metadata": {},
   "outputs": [
    {
     "data": {
      "text/html": [
       "<div>\n",
       "<style scoped>\n",
       "    .dataframe tbody tr th:only-of-type {\n",
       "        vertical-align: middle;\n",
       "    }\n",
       "\n",
       "    .dataframe tbody tr th {\n",
       "        vertical-align: top;\n",
       "    }\n",
       "\n",
       "    .dataframe thead th {\n",
       "        text-align: right;\n",
       "    }\n",
       "</style>\n",
       "<table border=\"1\" class=\"dataframe\">\n",
       "  <thead>\n",
       "    <tr style=\"text-align: right;\">\n",
       "      <th></th>\n",
       "      <th>title</th>\n",
       "      <th>content</th>\n",
       "      <th>rating</th>\n",
       "      <th>helpful_count</th>\n",
       "      <th>not_helpful_count</th>\n",
       "      <th>corrected_content</th>\n",
       "      <th>sentiment</th>\n",
       "    </tr>\n",
       "  </thead>\n",
       "  <tbody>\n",
       "    <tr>\n",
       "      <th>0</th>\n",
       "      <td>IMDB #2 quality movie of all time, is truly #1...</td>\n",
       "      <td>This movie was far ahead of its time. It had t...</td>\n",
       "      <td>No rating</td>\n",
       "      <td>2</td>\n",
       "      <td>1</td>\n",
       "      <td>This movie was far ahead of its time. It had t...</td>\n",
       "      <td>Very Negative</td>\n",
       "    </tr>\n",
       "    <tr>\n",
       "      <th>1</th>\n",
       "      <td>Just Fabulous- A Timeless Masterpiece</td>\n",
       "      <td>Morgan Freeman, in one of his most iconic role...</td>\n",
       "      <td>10</td>\n",
       "      <td>1</td>\n",
       "      <td>0</td>\n",
       "      <td>Morgan Freeman, in one of his most iconic role...</td>\n",
       "      <td>Very Negative</td>\n",
       "    </tr>\n",
       "    <tr>\n",
       "      <th>2</th>\n",
       "      <td>An excellent film contained within a classic</td>\n",
       "      <td>When I first saw the Shawshank Redemption, I w...</td>\n",
       "      <td>10</td>\n",
       "      <td>4</td>\n",
       "      <td>2</td>\n",
       "      <td>When I first saw the Shawshank Redemption, I w...</td>\n",
       "      <td>Neutral</td>\n",
       "    </tr>\n",
       "    <tr>\n",
       "      <th>3</th>\n",
       "      <td>A Film That Inspires Hope and Freedom</td>\n",
       "      <td>A powerful and moving story that showcases the...</td>\n",
       "      <td>10</td>\n",
       "      <td>1</td>\n",
       "      <td>0</td>\n",
       "      <td>A powerful and moving story that showcases the...</td>\n",
       "      <td>Very Negative</td>\n",
       "    </tr>\n",
       "    <tr>\n",
       "      <th>4</th>\n",
       "      <td>What movie industry is missing nowadays</td>\n",
       "      <td>This is exactly the type of movie the new era ...</td>\n",
       "      <td>9</td>\n",
       "      <td>1</td>\n",
       "      <td>0</td>\n",
       "      <td>This is exactly the type of movie the new era ...</td>\n",
       "      <td>Very Positive</td>\n",
       "    </tr>\n",
       "  </tbody>\n",
       "</table>\n",
       "</div>"
      ],
      "text/plain": [
       "                                               title  \\\n",
       "0  IMDB #2 quality movie of all time, is truly #1...   \n",
       "1              Just Fabulous- A Timeless Masterpiece   \n",
       "2       An excellent film contained within a classic   \n",
       "3              A Film That Inspires Hope and Freedom   \n",
       "4            What movie industry is missing nowadays   \n",
       "\n",
       "                                             content     rating helpful_count  \\\n",
       "0  This movie was far ahead of its time. It had t...  No rating             2   \n",
       "1  Morgan Freeman, in one of his most iconic role...         10             1   \n",
       "2  When I first saw the Shawshank Redemption, I w...         10             4   \n",
       "3  A powerful and moving story that showcases the...         10             1   \n",
       "4  This is exactly the type of movie the new era ...          9             1   \n",
       "\n",
       "   not_helpful_count                                  corrected_content  \\\n",
       "0                  1  This movie was far ahead of its time. It had t...   \n",
       "1                  0  Morgan Freeman, in one of his most iconic role...   \n",
       "2                  2  When I first saw the Shawshank Redemption, I w...   \n",
       "3                  0  A powerful and moving story that showcases the...   \n",
       "4                  0  This is exactly the type of movie the new era ...   \n",
       "\n",
       "       sentiment  \n",
       "0  Very Negative  \n",
       "1  Very Negative  \n",
       "2        Neutral  \n",
       "3  Very Negative  \n",
       "4  Very Positive  "
      ]
     },
     "execution_count": 3,
     "metadata": {},
     "output_type": "execute_result"
    }
   ],
   "source": [
    "import pandas as pd\n",
    "\n",
    "df = pd.read_csv(\"imdb_reviews_with_sentiment2.csv\", encoding=\"utf-8\", sep=\";\")\n",
    "\n",
    "df.head()"
   ]
  },
  {
   "cell_type": "code",
   "execution_count": 15,
   "id": "2cf939bb-f6bf-48a9-b082-e1fa32168680",
   "metadata": {},
   "outputs": [
    {
     "name": "stdout",
     "output_type": "stream",
     "text": [
      "[Sentyment: Very Negative] This movie was far ahead of its time. It had the best picture, soundtrack, brilliant acting, descriptive characters, masterful storyline as in example illustrated the ideal prison life to the bone, and was the first of its kind to come out with an unbelivable(shocking) ending. If you haven't watched this movie yet, you are depriving your eyes of the \"amazing\" it craves. The ending is so beautiful, one can't dare to imagine.\n",
      "[Sentyment: Very Negative] Morgan Freeman, in one of his most iconic roles, gives an outstanding performance as Red. His deep, soulful narration adds depth and emotional resonance to the film, making him the perfect choice for the character. Red's journey, as he transitions from a hardened criminal to a believer in redemption and hope, is beautifully portrayed by Freeman, and his chemistry with Robbins is nothing short of magical. The supporting cast also shines, with memorable performances by Bob Gunton as the ruthless warden Norton and William Sadler as the sympathetic inmate Heywood. Each character in Shawshank State Penitentiary adds to the richness of the story, providing glimpses into the harsh realities of prison life and the transformative power of friendship. \"The Shawshank Redemption\" is a visually stunning film thanks to the brilliant cinematography of Roger Deakins. The way he captures the starkness of the prison environment and juxtaposes it with moments of breathtaking beauty is a testament to his mastery of the craft. The film's iconic scenes, such as Andy's escape through the sewage pipe and his triumphant emergence into the pouring rain, are etched into cinematic history. Thomas Newman's hauntingly beautiful score further elevates the emotional impact of the film. His music weaves seamlessly with the narrative, enhancing the audience's connection to the characters and their struggles. The recurring motif of hope in the score becomes a character in itself, underscoring the film's central theme. At its core, \"The Shawshank Redemption\" is a story about the enduring power of hope. Despite the bleak and oppressive environment of Shawshank State Penitentiary, Andy Dufresne's unwavering belief in the possibility of redemption and his determination to live life on his own terms serve as a beacon of hope for those around him. This theme resonates deeply with audiences, making the film a timeless classic that continues to inspire and uplift. The film's emotional impact is profound, and it is impossible to watch it without being moved. Whether it's the camaraderie among the inmates during movie nights, the heartbreaking stories of fellow prisoners, or the moments of triumph and redemption, \"The Shawshank Redemption\" elicits a range of emotions, from tears to cheers.\n",
      "[Sentyment: Neutral] When I first saw the Shawshank Redemption, I was in a movie theater on a week night at around 11pm. I had gotten out of work from working the evening shift. I was tired and just wanted a little amusement. This was at a time after Shawshank had been released but got little attention. I had heard some Oscar buzz so my curiosity got the better of me. I half reluctantly chose to watch it. That night, I was not prepared to be blown away. I didn't see a movie, I was transported by a story. I was instantly transcended into realizing why films should be made to begin with. I wasn't just entertained, I was emotionally moved and intellectually bamboozled in the most endearing manner. If this film remains on IMDb's number one spot for a long time to come, it's well deserves it. To me personally, the Shawshank Redemption is a testament to why the 90's were an interesting decade, but more than that, why a film can become an experience and gain instant classic status. There are two simple rules you should follow prior to watching T S R: one, if you haven't seen it, don't let anyone who has seen it tell you anything about its plot, Don't listen to a word because they might ruin it for you. Two, make arrangements not to be interrupted when watching the film; no phone calls, no doorbells, no other plans. Watch it from beginning to end. You can't over hype this film, it's just that good. What I've written here is just a small fraction of what I can further express by way of praise for the film. Long live The Shawshank Redemption on IMDb!\n",
      "[Sentyment: Very Negative] A powerful and moving story that showcases the human spirit and its resilience in the face of adversity. The Shawshank Redemption is a life lesson. It teaches us that no matter how dark and hopeless our situation may seem, there is always a light at the end of the tunnel. It shows us that friendship, courage, and perseverance can overcome any obstacle and injustice. It makes us feel every emotion, from anger and sadness to joy and relief. It has amazing performances, a brilliant script, and a stunning soundtrack. It is a masterpiece that I can watch over and over again, and never get tired of. It is the best film ever made, in my opinion. It is a film that transcends its genre and becomes a timeless classic. It is one of the best films ever made.\n",
      "[Sentyment: Very Positive] This is exactly the type of movie the new era cinema needs ... Magic!\n",
      "[Sentyment: Very Negative] Good Movie. The first time I saw it, when it first came out in 1994, I thought that it was fantastic. But now that I have seen it approaching 15 times now (thanks to TNT), there are a few things that I have noticed that have convinced me it does not deserve to be in the top ten or even the top 50 of all time. I find the film unrealistic. The prison seems to exist in some sort of hyper-reality where people are either bad guys or good guys but there is absolutely no grey area. The prison and the prisoners are also very clean, neither have the lived-in quality that you would expect. I do not know if this feeling I get from the movie was on-purpose by the director Darabont, but I feel as though the authenticity of the movie is not there. I also feel as though the movie is very manipulative of the audience's emotions in the way that the story is used to make the viewer feel a certain way about a character. Of course all movies are manipulative in this way. But I am very aware of it when I watch Shawshank. I was also aware of it when I watch movies like The Green Mile or The Hurricane, I feel as though these movies do not give the audience an opportunity to decide for themselves. Lastly, I think that this movie was carried by the supreme acting, and that if the Freeman and Robbins were not so good it would not even deserve to be in the top 250. Otherwise, I rooted for this movie to get the Oscar in 1994 because I thought it was a superior movie to Forest Gump.\n",
      "[Sentyment: Very Negative] In 1947, banker Andy Dufresne (Tim Robbins) is convicted of murdering his wife and her lover, based on circumstantial evidence, and is sentenced to two consecutive life sentences at Shawshank State Penitentiary. Andy quickly befriends contraband smuggler Ellis \"Red\" Redding (Morgan Freeman), an inmate serving a life sentence. Red procures a rock hammer for Andy, allowing him to create small stone chess pieces. Red later gets him a large poster of Rita Hayworth, followed in later years by images of Marilyn Monroe and Raquel Welch. Andy works in the prison laundry, but is regularly assaulted by the \"bull queer\" gang \"the Sisters\" and their leader Bogs (Mark Rolston). In 1949, Andy overhears the brutal chief guard Byron Hadley (Clancy Brown) complaining about taxes on a forthcoming inheritance and informs him about a financial loophole. After another vicious assault by the Sisters nearly kills Andy, Hadley severely beats Bogs resulting in Bogs being sent to another prison. Andy is not attacked again. Warden Samuel Norton (Bob Gunton) meets with Andy and reassigns him to the prison library to assist elderly inmate Brooks Hatlen (James Whitmore), a pretext for Andy to manage financial duties for the prison. His advice and expertise are \n"
     ]
    }
   ],
   "source": [
    "all_reviews = \"\\n\".join(\n",
    "    f\"[Sentyment: {sentiment}] {content}\"\n",
    "    for sentiment, content in zip(df['sentiment'], df['corrected_content'])\n",
    ")\n",
    "\n",
    "if len(all_reviews) > 8000:\n",
    "    all_reviews = all_reviews[:8000]\n",
    "\n",
    "print(all_reviews)"
   ]
  },
  {
   "cell_type": "code",
   "execution_count": 18,
   "id": "35844d66-adaa-419b-86bd-5a955e97fb52",
   "metadata": {},
   "outputs": [],
   "source": [
    "prompt = (\n",
    "    \"Na podstawie poniższych 100 recenzji użytkowników napisz jedną, formalną i zaawansowaną (długą) recenzję filmu. \"\n",
    "    \"Przed każdą recenzją masz sentyment wykryty w danej recenzji użytkownika. Wykorzystaj je do zgrupowania informacji negatywnych, pozytywnych etc.\"\n",
    "    \"Uwzględnij powtarzające się wątki i ogólne emocje. Styl: dziennikarski, formalny, neutralny.\\n\\n\"\n",
    "    f\"{all_reviews}\\n\\nFormalna recenzja:\"\n",
    ")"
   ]
  },
  {
   "cell_type": "code",
   "execution_count": 7,
   "id": "0c29b31b-1b26-4e90-a93c-e4185991d6e4",
   "metadata": {},
   "outputs": [
    {
     "name": "stdout",
     "output_type": "stream",
     "text": [
      "Collecting ollama\n",
      "  Downloading ollama-0.4.8-py3-none-any.whl.metadata (4.7 kB)\n",
      "Requirement already satisfied: httpx<0.29,>=0.27 in c:\\users\\pawci\\miniconda3\\envs\\nlp\\lib\\site-packages (from ollama) (0.27.0)\n",
      "Collecting pydantic<3.0.0,>=2.9.0 (from ollama)\n",
      "  Downloading pydantic-2.11.4-py3-none-any.whl.metadata (66 kB)\n",
      "Requirement already satisfied: anyio in c:\\users\\pawci\\miniconda3\\envs\\nlp\\lib\\site-packages (from httpx<0.29,>=0.27->ollama) (4.6.2)\n",
      "Requirement already satisfied: certifi in c:\\users\\pawci\\miniconda3\\envs\\nlp\\lib\\site-packages (from httpx<0.29,>=0.27->ollama) (2025.1.31)\n",
      "Requirement already satisfied: httpcore==1.* in c:\\users\\pawci\\miniconda3\\envs\\nlp\\lib\\site-packages (from httpx<0.29,>=0.27->ollama) (1.0.2)\n",
      "Requirement already satisfied: idna in c:\\users\\pawci\\miniconda3\\envs\\nlp\\lib\\site-packages (from httpx<0.29,>=0.27->ollama) (3.7)\n",
      "Requirement already satisfied: sniffio in c:\\users\\pawci\\miniconda3\\envs\\nlp\\lib\\site-packages (from httpx<0.29,>=0.27->ollama) (1.3.0)\n",
      "Requirement already satisfied: h11<0.15,>=0.13 in c:\\users\\pawci\\miniconda3\\envs\\nlp\\lib\\site-packages (from httpcore==1.*->httpx<0.29,>=0.27->ollama) (0.14.0)\n",
      "Collecting annotated-types>=0.6.0 (from pydantic<3.0.0,>=2.9.0->ollama)\n",
      "  Using cached annotated_types-0.7.0-py3-none-any.whl.metadata (15 kB)\n",
      "Collecting pydantic-core==2.33.2 (from pydantic<3.0.0,>=2.9.0->ollama)\n",
      "  Downloading pydantic_core-2.33.2-cp310-cp310-win_amd64.whl.metadata (6.9 kB)\n",
      "Requirement already satisfied: typing-extensions>=4.12.2 in c:\\users\\pawci\\appdata\\roaming\\python\\python310\\site-packages (from pydantic<3.0.0,>=2.9.0->ollama) (4.12.2)\n",
      "Collecting typing-inspection>=0.4.0 (from pydantic<3.0.0,>=2.9.0->ollama)\n",
      "  Using cached typing_inspection-0.4.0-py3-none-any.whl.metadata (2.6 kB)\n",
      "Requirement already satisfied: exceptiongroup>=1.0.2 in c:\\users\\pawci\\appdata\\roaming\\python\\python310\\site-packages (from anyio->httpx<0.29,>=0.27->ollama) (1.2.2)\n",
      "Downloading ollama-0.4.8-py3-none-any.whl (13 kB)\n",
      "Downloading pydantic-2.11.4-py3-none-any.whl (443 kB)\n",
      "Downloading pydantic_core-2.33.2-cp310-cp310-win_amd64.whl (2.0 MB)\n",
      "   ---------------------------------------- 0.0/2.0 MB ? eta -:--:--\n",
      "   ----- ---------------------------------- 0.3/2.0 MB ? eta -:--:--\n",
      "   ---------------- ----------------------- 0.8/2.0 MB 2.2 MB/s eta 0:00:01\n",
      "   -------------------------- ------------- 1.3/2.0 MB 2.3 MB/s eta 0:00:01\n",
      "   ------------------------------------- -- 1.8/2.0 MB 2.3 MB/s eta 0:00:01\n",
      "   ---------------------------------------- 2.0/2.0 MB 2.3 MB/s eta 0:00:00\n",
      "Using cached annotated_types-0.7.0-py3-none-any.whl (13 kB)\n",
      "Using cached typing_inspection-0.4.0-py3-none-any.whl (14 kB)\n",
      "Installing collected packages: typing-inspection, pydantic-core, annotated-types, pydantic, ollama\n",
      "Successfully installed annotated-types-0.7.0 ollama-0.4.8 pydantic-2.11.4 pydantic-core-2.33.2 typing-inspection-0.4.0\n",
      "Note: you may need to restart the kernel to use updated packages.\n"
     ]
    }
   ],
   "source": [
    "pip install ollama"
   ]
  },
  {
   "cell_type": "code",
   "execution_count": 8,
   "id": "b4f91d76-61fd-49ad-8092-b1bac64cdc17",
   "metadata": {},
   "outputs": [],
   "source": [
    "import ollama"
   ]
  },
  {
   "cell_type": "code",
   "execution_count": 19,
   "id": "e9404f23-dd84-4c90-bf16-545649ec0908",
   "metadata": {},
   "outputs": [
    {
     "name": "stdout",
     "output_type": "stream",
     "text": [
      "\n",
      "--- Formalna recenzja filmu ---\n",
      "\n",
      " Title: The Shawshank Redemption - A Timeless Classic of Cinematic Mastery\n",
      "\n",
      "The Shawshank Redemption, directed by Frank Darabont in 1994, stands as a testament to the power and resilience of the human spirit. Set within the grim confines of Shawshank State Penitentiary, this film masterfully explores themes of friendship, hope, and redemption, while offering an emotionally gripping journey that transcends the boundaries of its genre.\n",
      "\n",
      "The film boasts a stellar cast, with performances by Morgan Freeman, Tim Robbins, Bob Gunton, and William Sadler among others, delivering nuanced portrayals that breathe life into their respective characters. Morgan Freeman's portrayal of Red, the warden, is particularly noteworthy, as he skillfully navigates the character's transformation from a hardened criminal to a believer in redemption and hope.\n",
      "\n",
      "The Shawshank Redemption offers a rich tapestry of storytelling, with each character adding depth to the narrative and providing glimpses into the harsh realities of prison life. The brilliant cinematography, expertly executed by Roger Deakins, further enhances the film's emotional impact, capturing the starkness of the prison environment while juxtaposing it with moments of breathtaking beauty. Thomas Newman's hauntingly beautiful score weaves seamlessly with the narrative, underscoring the film's central theme and heightening the audience's connection to the characters and their struggles.\n",
      "\n",
      "At its core, The Shawshank Redemption is a story about hope, a theme that resonates deeply with audiences, making the film a timeless classic that continues to inspire and uplift. The emotional impact of the film is profound, eliciting a range of emotions from tears to cheers as the audience follows Andy Dufresne's unwavering belief in the possibility of redemption and his determination to live life on his own terms.\n",
      "\n",
      "However, while The Shawshank Redemption has garnered widespread acclaim and praise, it is not without its criticisms. Some viewers have expressed concerns about the film's unrealistic portrayal of prison life and the lack of authenticity in the prison environment. Others argue that the film manipulates the audience's emotions through its storytelling, making it difficult to decide for oneself about the characters. Despite these criticisms, The Shawshank Redemption remains a powerful and moving story that showcases the human spirit's resilience in the face of adversity.\n",
      "\n",
      "In conclusion, The Shawshank Redemption is a masterpiece of cinema, offering a rich and emotional journey that resonates with audiences long after the credits have rolled. Its themes of hope, friendship, and redemption transcend time, making it a timeless classic that deserves to be celebrated for its storytelling prowess and its ability to inspire and uplift. Whether you're a fan of cinema or simply seeking an engaging and emotionally resonant film experience, The Shawshank Redemption is a must-watch.\n"
     ]
    }
   ],
   "source": [
    "response = ollama.chat(\n",
    "    model='mistral',\n",
    "    messages=[{\"role\": \"user\", \"content\": prompt}]\n",
    ")\n",
    "\n",
    "# Wynik\n",
    "print(\"\\n--- Formalna recenzja filmu ---\\n\")\n",
    "print(response['message']['content'])"
   ]
  },
  {
   "cell_type": "code",
   "execution_count": 21,
   "id": "b8149be5-9c6a-4af5-ac86-20a18d15aa0e",
   "metadata": {},
   "outputs": [],
   "source": [
    "prompt2 = (\n",
    "    \"Na podstawie poniższych 100 recenzji użytkowników napisz bullet pointsy, które uwzględnią pozytywne, neutralne i negatywne strony filmu.\"\n",
    "    \"Wykorzystaj do tego również sentymenty zawarte przy każdej z recenzji.\\n\\n\"\n",
    "    f\"{all_reviews}\\n\\nFormalna recenzja:\"\n",
    ")"
   ]
  },
  {
   "cell_type": "code",
   "execution_count": 22,
   "id": "5467e7b8-c3c8-43ef-adba-373b3887c0c7",
   "metadata": {},
   "outputs": [
    {
     "name": "stdout",
     "output_type": "stream",
     "text": [
      "\n",
      "--- Bullet Points ---\n",
      "\n",
      " * Positive aspects of \"The Shawshank Redemption\" include:\n",
      "     + Masterful storytelling with a powerful theme of hope\n",
      "     + Iconic performances by Morgan Freeman, Tim Robbins, and other cast members\n",
      "     + Beautiful cinematography and haunting soundtrack by Roger Deakins and Thomas Newman\n",
      "     + Richly developed characters that provide glimpses into the harsh realities of prison life\n",
      "     + A visually stunning film that transcends its genre and becomes a timeless classic\n",
      "\n",
      "* Neutral aspects of \"The Shawshank Redemption\" include:\n",
      "     + The film may be unrealistic in its depiction of the prison environment\n",
      "     + Some viewers may feel that the movie is manipulative of their emotions\n",
      "     + The authenticity of the movie's setting and characters may not be fully realized\n",
      "\n",
      "* Negative aspects of \"The Shawshank Redemption\" include:\n",
      "     + Some viewers find the film overly sentimental or manipulative in its storytelling\n",
      "     + Others feel that the portrayal of prison life lacks authenticity\n",
      "     + The movie may not appeal to those who prefer more action-oriented films or stories with a faster pace\n"
     ]
    }
   ],
   "source": [
    "response2 = ollama.chat(\n",
    "    model='mistral',\n",
    "    messages=[{\"role\": \"user\", \"content\": prompt2}]\n",
    ")\n",
    "\n",
    "# Wynik\n",
    "print(\"\\n--- Bullet Points ---\\n\")\n",
    "print(response2['message']['content'])"
   ]
  },
  {
   "cell_type": "code",
   "execution_count": 23,
   "id": "f0c46da0-085e-45f2-a04a-cce75fee2247",
   "metadata": {},
   "outputs": [],
   "source": [
    "prompt3 = (\n",
    "    \"Na podstawie poniższych 100 recenzji użytkowników napisz jedną, potoczną, luźną i długą recenzję filmu. \"\n",
    "    \"Przed każdą recenzją masz sentyment wykryty w danej recenzji użytkownika. Wykorzystaj je do zgrupowania informacji negatywnych, pozytywnych etc.\"\n",
    "    \"Uwzględnij powtarzające się wątki i ogólne emocje. Styl: uliczny, potoczny.\\n\\n\"\n",
    "    f\"{all_reviews}\\n\\nFormalna recenzja:\"\n",
    ")"
   ]
  },
  {
   "cell_type": "code",
   "execution_count": 24,
   "id": "391a70dc-f6e5-4e0f-ac21-b6f66dd9a0c8",
   "metadata": {},
   "outputs": [
    {
     "name": "stdout",
     "output_type": "stream",
     "text": [
      "\n",
      "--- Potoczna recenzja ---\n",
      "\n",
      " Alright, homies, listen up! If you haven't seen \"The Shawshank Redemption,\" you gotta get on that ASAP! This movie is a game-changer, man. The picture, the soundtrack, and the acting are top-notch. Morgan Freeman as Red? Brilliant! His narration adds depth to the story, and his journey from hardened criminal to hopeful redeemer is beautifully portrayed.\n",
      "\n",
      "The supporting cast shines too, with standout performances by Bob Gunton as the ruthless Warden Norton and William Sadler as sympathetic inmate Heywood. Each character brings something unique to the story, giving us a glimpse into the harsh realities of prison life and the transformative power of friendship.\n",
      "\n",
      "The cinematography is stunning, with Roger Deakins capturing the starkness of Shawshank State Penitentiary and moments of breathtaking beauty flawlessly. Thomas Newman's score adds to the emotional impact of the film, its haunting melody weaving seamlessly with the narrative.\n",
      "\n",
      "At its core, \"The Shawshank Redemption\" is a tale about hope. Despite the bleak environment, Andy Dufresne's unwavering belief in redemption serves as a beacon for those around him. The film elicits a range of emotions, from tears to cheers, making it a timeless classic that continues to inspire and uplift.\n",
      "\n",
      "Now, some folks might complain about the plot being predictable or the prison seeming too clean. But, hey, it's a movie! It ain't supposed to be a documentary, ya know? Besides, if you let those minor details distract you from the powerful story and outstanding performances, then you're missing out, man.\n",
      "\n",
      "So, go watch \"The Shawshank Redemption,\" y'all. You won't regret it!\n"
     ]
    }
   ],
   "source": [
    "response3 = ollama.chat(\n",
    "    model='mistral',\n",
    "    messages=[{\"role\": \"user\", \"content\": prompt3}]\n",
    ")\n",
    "\n",
    "# Wynik\n",
    "print(\"\\n--- Potoczna recenzja ---\\n\")\n",
    "print(response3['message']['content'])"
   ]
  }
 ],
 "metadata": {
  "kernelspec": {
   "display_name": "Python 3 (ipykernel)",
   "language": "python",
   "name": "python3"
  },
  "language_info": {
   "codemirror_mode": {
    "name": "ipython",
    "version": 3
   },
   "file_extension": ".py",
   "mimetype": "text/x-python",
   "name": "python",
   "nbconvert_exporter": "python",
   "pygments_lexer": "ipython3",
   "version": "3.10.16"
  }
 },
 "nbformat": 4,
 "nbformat_minor": 5
}
